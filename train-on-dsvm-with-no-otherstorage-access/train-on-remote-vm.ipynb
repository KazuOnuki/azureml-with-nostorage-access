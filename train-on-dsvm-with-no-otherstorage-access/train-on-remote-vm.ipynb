{
 "cells": [
  {
   "cell_type": "code",
   "execution_count": null,
   "metadata": {
    "gather": {
     "logged": 1648339238399
    }
   },
   "outputs": [],
   "source": [
    "import os\n",
    "import numpy as np\n",
    "import azureml.core\n",
    "import shutil\n",
    "from azureml.core import Workspace, Experiment, Dataset\n",
    "from sklearn.datasets import load_diabetes\n",
    "from azureml.core.compute import ComputeTarget\n",
    "\n",
    "print(\"# [SDK Check]\")\n",
    "print(\"SDK version:\", azureml.core.VERSION)\n",
    "print(\"*\"*60)\n",
    "\n",
    "print(\"# [WS Check]\")\n",
    "ws = Workspace.from_config()\n",
    "ws_key = ['WS Name', 'RG', 'Region', 'Subscription']\n",
    "ws_val = [ws.name, ws.resource_group, ws.location, ws.subscription_id]\n",
    "for k,v in zip(ws_key, ws_val):\n",
    "    print(f'{k}: {v}')\n",
    "print(\"*\"*60)\n",
    "\n",
    "experiment_name = 'train-on-remote-vm2'\n",
    "exp = Experiment(workspace=ws, name=experiment_name)\n",
    "script_folder = './vm-run'\n",
    "os.makedirs(script_folder, exist_ok=True)\n",
    "\n",
    "print(\"# [Get DS]\")\n",
    "# Get the default datastore\n",
    "ds = ws.get_default_datastore()\n",
    "ds_key = ['DS Name', 'DS Type', 'Storage Account Name', 'BLOB Contaner Name']\n",
    "ds_val = [ds.name, ds.datastore_type, ds.account_name, ds.container_name]\n",
    "for k,v in zip(ds_key, ds_val):\n",
    "    print(f'{k}: {v}')\n",
    "print(\"*\"*60)\n",
    "\n",
    "print(\"# [Upload to DS]\")\n",
    "training_data = load_diabetes()\n",
    "np.save(file='./features.npy', arr=training_data['data'])\n",
    "np.save(file='./labels.npy', arr=training_data['target'])\n",
    "ds.upload_files(['./features.npy', './labels.npy'], target_path='diabetes', overwrite=True)\n",
    "ds_paths = [(ds, 'diabetes/')]\n",
    "dataset = Dataset.File.from_files(path = ds_paths)\n",
    "shutil.copy('./train.py', os.path.join(script_folder, 'train.py'))\n",
    "print(\"*\"*60)\n",
    "\n",
    "print(\"# [Remote VM Check]\")\n",
    "global attached_dsvm_compute\n",
    "try:\n",
    "    compute_target_name = 'dsvm'  # Your Remote VM Resource Name\n",
    "    attached_dsvm_compute = ComputeTarget(workspace=ws, name=compute_target_name)\n",
    "    print(f'Found Remote VM Resoure Name: {compute_target_name}')\n",
    "except Exception as e:\n",
    "    print(f'Error: {e}')"
   ]
  },
  {
   "cell_type": "code",
   "execution_count": null,
   "metadata": {
    "gather": {
     "logged": 1648339372577
    }
   },
   "outputs": [],
   "source": [
    "from uuid import uuid4\n",
    "from azureml.core import Environment\n",
    "from azureml.core.conda_dependencies import CondaDependencies\n",
    "from azureml.core import ScriptRunConfig\n",
    "\n",
    "# 1: Remote VM 先の Python 環境使用ケース\n",
    "conda_env = Environment(\"conda-env2\")\n",
    "# NOTE: Remote VM (DSVM-ubuntu 18.04 LTS Gen2) 先の Python 環境を使用するフラグ\n",
    "conda_env.python.user_managed_dependencies = True\n",
    "############################################\n",
    "\n",
    "# 2: カスタム Python 環境使用ケース\n",
    "sklearn_env = Environment.from_conda_specification(\n",
    "    name = 'sklearn-env', \n",
    "    file_path = './conda_dependencies.yml'\n",
    ")\n",
    "############################################\n",
    "\n",
    "script_arguments = [\n",
    "    '--data-folder', \n",
    "    dataset.as_named_input('diabetes').as_mount(f'/tmp/{uuid4()}')\n",
    "]\n",
    "\n",
    "src = ScriptRunConfig(\n",
    "    source_directory=script_folder, \n",
    "    script='train.py', \n",
    "    arguments=script_arguments,  # pass the dataset as a parameter to the training script\n",
    "    compute_target = attached_dsvm_compute,\n",
    "    environment = sklearn_env\n",
    "    # environment = conda_env\n",
    ")\n"
   ]
  },
  {
   "cell_type": "code",
   "execution_count": null,
   "metadata": {
    "gather": {
     "logged": 1648339492411
    }
   },
   "outputs": [],
   "source": [
    "from azureml.widgets import RunDetails\n",
    "\n",
    "run = exp.submit(config=src)\n",
    "RunDetails(run).show()\n",
    "run.wait_for_completion(show_output=True)"
   ]
  },
  {
   "cell_type": "markdown",
   "metadata": {},
   "source": [
    "## Clean up compute resource\n",
    "\n",
    "Use ```detach()``` to detach an existing DSVM from Workspace without deleting it. Use ```delete()``` if you created a new ```DsvmCompute``` and want to delete it."
   ]
  },
  {
   "cell_type": "code",
   "execution_count": null,
   "metadata": {},
   "outputs": [],
   "source": [
    "# dsvm_compute.detach()\n",
    "# dsvm_compute.delete()"
   ]
  }
 ],
 "metadata": {
  "authors": [
   {
    "name": "sanpil"
   }
  ],
  "categories": [
   "how-to-use-azureml",
   "training"
  ],
  "category": "training",
  "compute": [
   "Data Science Virtual Machine"
  ],
  "datasets": [
   "Diabetes"
  ],
  "deployment": [
   "None"
  ],
  "exclude_from_index": false,
  "framework": [
   "None"
  ],
  "friendly_name": "Train in a remote Linux virtual machine",
  "index_order": 1,
  "kernel_info": {
   "name": "python3-azureml"
  },
  "kernelspec": {
   "display_name": "azureml",
   "language": "python",
   "name": "azureml"
  },
  "language_info": {
   "codemirror_mode": {
    "name": "ipython",
    "version": 3
   },
   "file_extension": ".py",
   "mimetype": "text/x-python",
   "name": "python",
   "nbconvert_exporter": "python",
   "pygments_lexer": "ipython3",
   "version": "3.6.13"
  },
  "microsoft": {
   "host": {
    "AzureML": {
     "notebookHasBeenCompleted": true
    }
   }
  },
  "nteract": {
   "version": "nteract-front-end@1.0.0"
  },
  "tags": [
   "None"
  ],
  "task": "Configure and execute a run"
 },
 "nbformat": 4,
 "nbformat_minor": 2
}
